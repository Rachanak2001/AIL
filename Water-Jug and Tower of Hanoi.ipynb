{
 "cells": [
  {
   "cell_type": "code",
   "execution_count": 4,
   "id": "54a72486",
   "metadata": {},
   "outputs": [
    {
     "name": "stdout",
     "output_type": "stream",
     "text": [
      "Steps: \n",
      "0 0\n",
      "5 0\n",
      "5 2\n",
      "0 2\n",
      "2 0\n",
      "2 2\n",
      "4 0\n"
     ]
    },
    {
     "data": {
      "text/plain": [
       "True"
      ]
     },
     "execution_count": 4,
     "metadata": {},
     "output_type": "execute_result"
    }
   ],
   "source": [
    "#Write a program to Implement water-Jug problem using python.\n",
    "\n",
    "from collections import defaultdict\n",
    "jug1,jug2,aim=5,2,4\n",
    "visited=defaultdict(lambda:False)\n",
    "def waterJugSolver(amt1,amt2):\n",
    "    if(amt1==aim and amt2==0)or(amt2==aim and amt1==0):\n",
    "        print(amt1,amt2)\n",
    "        return True\n",
    "    if visited[(amt1,amt2)]==False:\n",
    "        print(amt1,amt2)\n",
    "        visited[(amt1,amt2)]=True\n",
    "        return(waterJugSolver(0,amt2)or\n",
    "              waterJugSolver(amt1,0)or\n",
    "              waterJugSolver(jug1,amt2)or\n",
    "              waterJugSolver(amt1,jug2)or\n",
    "              waterJugSolver(amt1+min(amt2,(jug1-amt1)),\n",
    "              amt2-min(amt2,(jug1-amt1)))or\n",
    "              waterJugSolver(amt1-min(amt1,(jug2-amt2)),\n",
    "              amt2+min(amt1,(jug2-amt2))))\n",
    "    else:\n",
    "        return False\n",
    "print(\"Steps: \")\n",
    "waterJugSolver(0,0)\n",
    "            \n",
    "        "
   ]
  },
  {
   "cell_type": "code",
   "execution_count": 3,
   "id": "de921209",
   "metadata": {},
   "outputs": [
    {
     "name": "stdout",
     "output_type": "stream",
     "text": [
      "Move disk 1 from source A to destination B\n",
      "Move disk 2 from source A to destination C\n",
      "Move disk 1 from source B to destination C\n",
      "Move disk 3 from source A to destination B\n",
      "Move disk 1 from source C to destination A\n",
      "Move disk 2 from source C to destination B\n",
      "Move disk 1 from source A to destination B\n"
     ]
    }
   ],
   "source": [
    "# Write a program to Implement Tower of Hanoi python.\n",
    "\n",
    "def TowerOfHanoi(n,source,destination,auxiliary):\n",
    "    if n==1:\n",
    "        print(\"Move disk 1 from source\",source,\"to destination\",destination)\n",
    "        return\n",
    "    TowerOfHanoi(n-1,source,auxiliary,destination)\n",
    "    print(\"Move disk\",n,\"from source\",source,\"to destination\",destination)\n",
    "    TowerOfHanoi(n-1,auxiliary,destination,source)\n",
    "        \n",
    "n=3\n",
    "TowerOfHanoi(n,'A','B','C')"
   ]
  }
 ],
 "metadata": {
  "kernelspec": {
   "display_name": "Python 3 (ipykernel)",
   "language": "python",
   "name": "python3"
  },
  "language_info": {
   "codemirror_mode": {
    "name": "ipython",
    "version": 3
   },
   "file_extension": ".py",
   "mimetype": "text/x-python",
   "name": "python",
   "nbconvert_exporter": "python",
   "pygments_lexer": "ipython3",
   "version": "3.7.1"
  }
 },
 "nbformat": 4,
 "nbformat_minor": 5
}
